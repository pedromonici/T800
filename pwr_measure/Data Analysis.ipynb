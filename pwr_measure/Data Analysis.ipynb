{
 "cells": [
  {
   "cell_type": "code",
   "execution_count": 2,
   "id": "a763f570",
   "metadata": {},
   "outputs": [],
   "source": [
    "import numpy as np\n",
    "import pandas as pd\n",
    "import matplotlib.pyplot as plt\n",
    "import os\n",
    "import glob"
   ]
  },
  {
   "cell_type": "code",
   "execution_count": 3,
   "id": "baee2a3e",
   "metadata": {},
   "outputs": [],
   "source": [
    "path = \"./output/\"\n",
    "files = glob.glob(path + '/*.csv')"
   ]
  },
  {
   "cell_type": "code",
   "execution_count": 4,
   "id": "94e2e8ae",
   "metadata": {},
   "outputs": [
    {
     "name": "stdout",
     "output_type": "stream",
     "text": [
      "['./output\\\\0_16000000pps_aggressive.csv', './output\\\\0_16000000pps_insane.csv', './output\\\\0_16000000pps_normal.csv', './output\\\\0_8000000pps_aggressive.csv', './output\\\\0_8000000pps_insane.csv', './output\\\\0_8000000pps_normal.csv', './output\\\\2_16000000pps_aggressive.csv', './output\\\\2_16000000pps_insane.csv', './output\\\\2_16000000pps_normal.csv', './output\\\\2_8000000pps_aggressive.csv', './output\\\\2_8000000pps_insane.csv', './output\\\\2_8000000pps_normal.csv', './output\\\\m_16000000pps_aggressive.csv', './output\\\\m_16000000pps_insane.csv', './output\\\\m_16000000pps_normal.csv', './output\\\\m_8000000pps_aggressive.csv', './output\\\\m_8000000pps_insane.csv', './output\\\\m_8000000pps_normal.csv']\n"
     ]
    }
   ],
   "source": [
    "print(files)"
   ]
  },
  {
   "cell_type": "code",
   "execution_count": 5,
   "id": "53781114",
   "metadata": {},
   "outputs": [],
   "source": [
    "column_names = [\"bus_voltage\", \"shunt_voltage\", \"load_voltage\", \"curr_mA\", \"pwr_mW\", \"discrete\"]\n",
    "df = pd.read_csv(\"./output/0_16000000pps_aggressive.csv\", header=0, names=column_names)"
   ]
  },
  {
   "cell_type": "markdown",
   "id": "c508baa8",
   "metadata": {},
   "source": [
    "## Dados gerais para cada modelo (independente de nmap e throughput)"
   ]
  },
  {
   "cell_type": "code",
   "execution_count": 78,
   "id": "14ff0bef",
   "metadata": {},
   "outputs": [],
   "source": [
    "model_0 = []\n",
    "model_2 = []\n",
    "model_m = []\n",
    "\n",
    "for f in files:\n",
    "    df = pd.read_csv(f, header=0, names=column_names)\n",
    "    \n",
    "    if \"\\\\0_\" in f:\n",
    "        model_0.append(df[\"pwr_mW\"].loc[df.discrete == 1].values.T)\n",
    "    elif \"\\\\2_\" in f:\n",
    "        model_2.append(df[\"pwr_mW\"].loc[df.discrete == 1].values.T)\n",
    "    elif \"\\\\m_\" in f:\n",
    "        model_m.append(df[\"pwr_mW\"].loc[df.discrete == 1].values.T)"
   ]
  },
  {
   "cell_type": "code",
   "execution_count": 79,
   "id": "022e4f9a",
   "metadata": {},
   "outputs": [],
   "source": [
    "model_0 = np.concatenate(model_0, axis=0)\n",
    "model_2 = np.concatenate(model_2, axis=0)\n",
    "model_m = np.concatenate(model_m, axis=0)"
   ]
  },
  {
   "cell_type": "code",
   "execution_count": 96,
   "id": "c4d1a5e4",
   "metadata": {},
   "outputs": [
    {
     "data": {
      "image/png": "[encoded data removed]",
      "text/plain": [
       "<Figure size 720x504 with 1 Axes>"
      ]
     },
     "metadata": {
      "needs_background": "light"
     },
     "output_type": "display_data"
    }
   ],
   "source": [
    "data = [model_0, model_2, model_m]\n",
    "\n",
    "fig = plt.figure(figsize =(10, 7))\n",
    "plt.boxplot(data, showfliers=False, labels=[\"Modelo 0\", \"Modelo 2\", \"Modelo M\"]);\n",
    "plt.xlabel(\"Modelo\", fontsize=20)\n",
    "plt.ylabel(\"Potência (mW)\", fontsize=20);"
   ]
  },
  {
   "cell_type": "code",
   "execution_count": 97,
   "id": "236de2fc",
   "metadata": {},
   "outputs": [],
   "source": [
    "fig.savefig(os.path.join('figs/', 'potencia_por_modelo_geral.pdf'), dpi=300, bbox_inches = \"tight\")"
   ]
  },
  {
   "cell_type": "code",
   "execution_count": 98,
   "id": "eafd32f3",
   "metadata": {},
   "outputs": [
    {
     "name": "stdout",
     "output_type": "stream",
     "text": [
      "Potência [mW]\n",
      " Modelo 1: 369.50 ± 243.07\n",
      " Modelo 2: 369.37 ± 231.26\n",
      " Modelo M: 393.67 ± 250.37\n"
     ]
    }
   ],
   "source": [
    "print(\"Potência [mW]\\n Modelo 1: {:.2f} \\u00B1 {:.2f}\".format(np.mean(model_0), np.std(model_0)))\n",
    "print(\" Modelo 2: {:.2f} \\u00B1 {:.2f}\".format(np.mean(model_2), np.std(model_2)))\n",
    "print(\" Modelo M: {:.2f} \\u00B1 {:.2f}\".format(np.mean(model_m), np.std(model_m)))"
   ]
  },
  {
   "cell_type": "markdown",
   "id": "db1675c7",
   "metadata": {},
   "source": [
    "# Dados de cada técnica (Nmap) para cada modelo (independente de throughput)"
   ]
  },
  {
   "cell_type": "markdown",
   "id": "0fe8c0dc",
   "metadata": {},
   "source": [
    "## Aggressive"
   ]
  },
  {
   "cell_type": "code",
   "execution_count": 103,
   "id": "4e966594",
   "metadata": {},
   "outputs": [],
   "source": [
    "model_0 = []\n",
    "model_2 = []\n",
    "model_m = []\n",
    "\n",
    "for f in files:\n",
    "    df = pd.read_csv(f, header=0, names=column_names)\n",
    "    \n",
    "    if \"aggressive\" in f:\n",
    "        if \"\\\\0_\" in f:\n",
    "            model_0.append(df[\"pwr_mW\"].loc[df.discrete == 1].values.T)\n",
    "        elif \"\\\\2_\" in f:\n",
    "            model_2.append(df[\"pwr_mW\"].loc[df.discrete == 1].values.T)\n",
    "        elif \"\\\\m_\" in f:\n",
    "            model_m.append(df[\"pwr_mW\"].loc[df.discrete == 1].values.T)"
   ]
  },
  {
   "cell_type": "code",
   "execution_count": 104,
   "id": "1ecbf24e",
   "metadata": {},
   "outputs": [],
   "source": [
    "model_0 = np.concatenate(model_0, axis=0)\n",
    "model_2 = np.concatenate(model_2, axis=0)\n",
    "model_m = np.concatenate(model_m, axis=0)"
   ]
  },
  {
   "cell_type": "code",
   "execution_count": 105,
   "id": "e7595ac9",
   "metadata": {},
   "outputs": [
    {
     "data": {
      "image/png": "[encoded data removed]",
      "text/plain": [
       "<Figure size 720x504 with 1 Axes>"
      ]
     },
     "metadata": {
      "needs_background": "light"
     },
     "output_type": "display_data"
    }
   ],
   "source": [
    "data = [model_0, model_2, model_m]\n",
    "\n",
    "fig = plt.figure(figsize =(10, 7))\n",
    "plt.boxplot(data, showfliers=False, labels=[\"Modelo 0\", \"Modelo 2\", \"Modelo M\"]);\n",
    "plt.xlabel(\"Modelo\", fontsize=20)\n",
    "plt.ylabel(\"Potência (mW)\", fontsize=20);"
   ]
  },
  {
   "cell_type": "code",
   "execution_count": 106,
   "id": "ae50038e",
   "metadata": {},
   "outputs": [],
   "source": [
    "fig.savefig(os.path.join('figs/', 'potencia_por_modelo_aggressive.pdf'), dpi=300, bbox_inches = \"tight\")"
   ]
  },
  {
   "cell_type": "code",
   "execution_count": 107,
   "id": "16fdd69a",
   "metadata": {},
   "outputs": [
    {
     "name": "stdout",
     "output_type": "stream",
     "text": [
      "Potência [mW]\n",
      " Modelo 1: 353.42 ± 226.06\n",
      " Modelo 2: 387.24 ± 233.00\n",
      " Modelo M: 393.65 ± 256.01\n"
     ]
    }
   ],
   "source": [
    "print(\"Potência [mW]\\n Modelo 1: {:.2f} \\u00B1 {:.2f}\".format(np.mean(model_0), np.std(model_0)))\n",
    "print(\" Modelo 2: {:.2f} \\u00B1 {:.2f}\".format(np.mean(model_2), np.std(model_2)))\n",
    "print(\" Modelo M: {:.2f} \\u00B1 {:.2f}\".format(np.mean(model_m), np.std(model_m)))"
   ]
  },
  {
   "cell_type": "markdown",
   "id": "a26b46c0",
   "metadata": {},
   "source": [
    "## Normal"
   ]
  },
  {
   "cell_type": "code",
   "execution_count": 108,
   "id": "960993bd",
   "metadata": {},
   "outputs": [],
   "source": [
    "model_0 = []\n",
    "model_2 = []\n",
    "model_m = []\n",
    "\n",
    "for f in files:\n",
    "    df = pd.read_csv(f, header=0, names=column_names)\n",
    "    \n",
    "    if \"normal\" in f:\n",
    "        if \"\\\\0_\" in f:\n",
    "            model_0.append(df[\"pwr_mW\"].loc[df.discrete == 1].values.T)\n",
    "        elif \"\\\\2_\" in f:\n",
    "            model_2.append(df[\"pwr_mW\"].loc[df.discrete == 1].values.T)\n",
    "        elif \"\\\\m_\" in f:\n",
    "            model_m.append(df[\"pwr_mW\"].loc[df.discrete == 1].values.T)"
   ]
  },
  {
   "cell_type": "code",
   "execution_count": 109,
   "id": "388c01fa",
   "metadata": {},
   "outputs": [],
   "source": [
    "model_0 = np.concatenate(model_0, axis=0)\n",
    "model_2 = np.concatenate(model_2, axis=0)\n",
    "model_m = np.concatenate(model_m, axis=0)"
   ]
  },
  {
   "cell_type": "code",
   "execution_count": 110,
   "id": "b4fb6025",
   "metadata": {},
   "outputs": [
    {
     "data": {
      "image/png": "[encoded data removed]",
      "text/plain": [
       "<Figure size 720x504 with 1 Axes>"
      ]
     },
     "metadata": {
      "needs_background": "light"
     },
     "output_type": "display_data"
    }
   ],
   "source": [
    "data = [model_0, model_2, model_m]\n",
    "\n",
    "fig = plt.figure(figsize =(10, 7))\n",
    "plt.boxplot(data, showfliers=False, labels=[\"Modelo 0\", \"Modelo 2\", \"Modelo M\"]);\n",
    "plt.xlabel(\"Modelo\", fontsize=20)\n",
    "plt.ylabel(\"Potência (mW)\", fontsize=20);"
   ]
  },
  {
   "cell_type": "code",
   "execution_count": 111,
   "id": "ed1894e6",
   "metadata": {},
   "outputs": [],
   "source": [
    "fig.savefig(os.path.join('figs/', 'potencia_por_modelo_normal.pdf'), dpi=300, bbox_inches = \"tight\")"
   ]
  },
  {
   "cell_type": "code",
   "execution_count": 112,
   "id": "f25dad30",
   "metadata": {},
   "outputs": [
    {
     "name": "stdout",
     "output_type": "stream",
     "text": [
      "Potência [mW]\n",
      " Modelo 1: 414.47 ± 267.64\n",
      " Modelo 2: 377.15 ± 228.40\n",
      " Modelo M: 385.15 ± 258.38\n"
     ]
    }
   ],
   "source": [
    "print(\"Potência [mW]\\n Modelo 1: {:.2f} \\u00B1 {:.2f}\".format(np.mean(model_0), np.std(model_0)))\n",
    "print(\" Modelo 2: {:.2f} \\u00B1 {:.2f}\".format(np.mean(model_2), np.std(model_2)))\n",
    "print(\" Modelo M: {:.2f} \\u00B1 {:.2f}\".format(np.mean(model_m), np.std(model_m)))"
   ]
  },
  {
   "cell_type": "markdown",
   "id": "2063c4d6",
   "metadata": {},
   "source": [
    "## Insane"
   ]
  },
  {
   "cell_type": "code",
   "execution_count": 113,
   "id": "32463eef",
   "metadata": {},
   "outputs": [],
   "source": [
    "model_0 = []\n",
    "model_2 = []\n",
    "model_m = []\n",
    "\n",
    "for f in files:\n",
    "    df = pd.read_csv(f, header=0, names=column_names)\n",
    "    \n",
    "    if \"insane\" in f:\n",
    "        if \"\\\\0_\" in f:\n",
    "            model_0.append(df[\"pwr_mW\"].loc[df.discrete == 1].values.T)\n",
    "        elif \"\\\\2_\" in f:\n",
    "            model_2.append(df[\"pwr_mW\"].loc[df.discrete == 1].values.T)\n",
    "        elif \"\\\\m_\" in f:\n",
    "            model_m.append(df[\"pwr_mW\"].loc[df.discrete == 1].values.T)"
   ]
  },
  {
   "cell_type": "code",
   "execution_count": 114,
   "id": "97e11fd3",
   "metadata": {},
   "outputs": [],
   "source": [
    "model_0 = np.concatenate(model_0, axis=0)\n",
    "model_2 = np.concatenate(model_2, axis=0)\n",
    "model_m = np.concatenate(model_m, axis=0)"
   ]
  },
  {
   "cell_type": "code",
   "execution_count": 115,
   "id": "04ee3f2e",
   "metadata": {},
   "outputs": [
    {
     "data": {
      "image/png": "[encoded data removed]",
      "text/plain": [
       "<Figure size 720x504 with 1 Axes>"
      ]
     },
     "metadata": {
      "needs_background": "light"
     },
     "output_type": "display_data"
    }
   ],
   "source": [
    "data = [model_0, model_2, model_m]\n",
    "\n",
    "fig = plt.figure(figsize =(10, 7))\n",
    "plt.boxplot(data, showfliers=False, labels=[\"Modelo 0\", \"Modelo 2\", \"Modelo M\"]);\n",
    "plt.xlabel(\"Modelo\", fontsize=20)\n",
    "plt.ylabel(\"Potência (mW)\", fontsize=20);"
   ]
  },
  {
   "cell_type": "code",
   "execution_count": 116,
   "id": "eb442d83",
   "metadata": {},
   "outputs": [],
   "source": [
    "fig.savefig(os.path.join('figs/', 'potencia_por_modelo_insane.pdf'), dpi=300, bbox_inches = \"tight\")"
   ]
  },
  {
   "cell_type": "code",
   "execution_count": 117,
   "id": "267ac0d2",
   "metadata": {},
   "outputs": [
    {
     "name": "stdout",
     "output_type": "stream",
     "text": [
      "Potência [mW]\n",
      " Modelo 1: 342.91 ± 228.72\n",
      " Modelo 2: 343.93 ± 230.12\n",
      " Modelo M: 402.39 ± 234.97\n"
     ]
    }
   ],
   "source": [
    "print(\"Potência [mW]\\n Modelo 1: {:.2f} \\u00B1 {:.2f}\".format(np.mean(model_0), np.std(model_0)))\n",
    "print(\" Modelo 2: {:.2f} \\u00B1 {:.2f}\".format(np.mean(model_2), np.std(model_2)))\n",
    "print(\" Modelo M: {:.2f} \\u00B1 {:.2f}\".format(np.mean(model_m), np.std(model_m)))"
   ]
  },
  {
   "cell_type": "markdown",
   "id": "1d338d46",
   "metadata": {},
   "source": [
    "# Dados de cada throughput (Iperf) para cada modelo (independente de técnica)"
   ]
  },
  {
   "cell_type": "markdown",
   "id": "ed5a222d",
   "metadata": {},
   "source": [
    "## Throughput IPerf de 8000000pps"
   ]
  },
  {
   "cell_type": "code",
   "execution_count": 118,
   "id": "7f7bd646",
   "metadata": {},
   "outputs": [],
   "source": [
    "model_0 = []\n",
    "model_2 = []\n",
    "model_m = []\n",
    "\n",
    "for f in files:\n",
    "    df = pd.read_csv(f, header=0, names=column_names)\n",
    "    \n",
    "    if \"8000000pps\" in f:\n",
    "        if \"\\\\0_\" in f:\n",
    "            model_0.append(df[\"pwr_mW\"].loc[df.discrete == 1].values.T)\n",
    "        elif \"\\\\2_\" in f:\n",
    "            model_2.append(df[\"pwr_mW\"].loc[df.discrete == 1].values.T)\n",
    "        elif \"\\\\m_\" in f:\n",
    "            model_m.append(df[\"pwr_mW\"].loc[df.discrete == 1].values.T)"
   ]
  },
  {
   "cell_type": "code",
   "execution_count": 119,
   "id": "0e50cf8b",
   "metadata": {},
   "outputs": [],
   "source": [
    "model_0 = np.concatenate(model_0, axis=0)\n",
    "model_2 = np.concatenate(model_2, axis=0)\n",
    "model_m = np.concatenate(model_m, axis=0)"
   ]
  },
  {
   "cell_type": "code",
   "execution_count": 120,
   "id": "d0ddb22b",
   "metadata": {},
   "outputs": [
    {
     "data": {
      "image/png": "[encoded data removed]",
      "text/plain": [
       "<Figure size 720x504 with 1 Axes>"
      ]
     },
     "metadata": {
      "needs_background": "light"
     },
     "output_type": "display_data"
    }
   ],
   "source": [
    "data = [model_0, model_2, model_m]\n",
    "\n",
    "fig = plt.figure(figsize =(10, 7))\n",
    "plt.boxplot(data, showfliers=False, labels=[\"Modelo 0\", \"Modelo 2\", \"Modelo M\"]);\n",
    "plt.xlabel(\"Modelo\", fontsize=20)\n",
    "plt.ylabel(\"Potência (mW)\", fontsize=20);"
   ]
  },
  {
   "cell_type": "code",
   "execution_count": 121,
   "id": "07857cc9",
   "metadata": {},
   "outputs": [],
   "source": [
    "fig.savefig(os.path.join('figs/', 'potencia_por_modelo_8000000pps.pdf'), dpi=300, bbox_inches = \"tight\")"
   ]
  },
  {
   "cell_type": "code",
   "execution_count": 122,
   "id": "49fbe74f",
   "metadata": {},
   "outputs": [
    {
     "name": "stdout",
     "output_type": "stream",
     "text": [
      "Potência [mW]\n",
      " Modelo 1: 405.29 ± 254.81\n",
      " Modelo 2: 344.98 ± 225.49\n",
      " Modelo M: 393.23 ± 247.65\n"
     ]
    }
   ],
   "source": [
    "print(\"Potência [mW]\\n Modelo 1: {:.2f} \\u00B1 {:.2f}\".format(np.mean(model_0), np.std(model_0)))\n",
    "print(\" Modelo 2: {:.2f} \\u00B1 {:.2f}\".format(np.mean(model_2), np.std(model_2)))\n",
    "print(\" Modelo M: {:.2f} \\u00B1 {:.2f}\".format(np.mean(model_m), np.std(model_m)))"
   ]
  },
  {
   "cell_type": "markdown",
   "id": "cb8c510e",
   "metadata": {},
   "source": [
    "## Throughput IPerf de 16000000pps"
   ]
  },
  {
   "cell_type": "code",
   "execution_count": 6,
   "id": "32c51ff8",
   "metadata": {},
   "outputs": [],
   "source": [
    "model_0 = []\n",
    "model_2 = []\n",
    "model_m = []\n",
    "\n",
    "for f in files:\n",
    "    df = pd.read_csv(f, header=0, names=column_names)\n",
    "    \n",
    "    if \"16000000pps\" in f:\n",
    "        if \"\\\\0_\" in f:\n",
    "            model_0.append(df[\"pwr_mW\"].loc[df.discrete == 1].values.T)\n",
    "        elif \"\\\\2_\" in f:\n",
    "            model_2.append(df[\"pwr_mW\"].loc[df.discrete == 1].values.T)\n",
    "        elif \"\\\\m_\" in f:\n",
    "            model_m.append(df[\"pwr_mW\"].loc[df.discrete == 1].values.T)"
   ]
  },
  {
   "cell_type": "code",
   "execution_count": 7,
   "id": "db536071",
   "metadata": {},
   "outputs": [],
   "source": [
    "model_0 = np.concatenate(model_0, axis=0)\n",
    "model_2 = np.concatenate(model_2, axis=0)\n",
    "model_m = np.concatenate(model_m, axis=0)"
   ]
  },
  {
   "cell_type": "code",
   "execution_count": 8,
   "id": "654c24ce",
   "metadata": {},
   "outputs": [
    {
     "data": {
      "image/png": "[encoded data removed]",
      "text/plain": [
       "<Figure size 720x504 with 1 Axes>"
      ]
     },
     "metadata": {
      "needs_background": "light"
     },
     "output_type": "display_data"
    }
   ],
   "source": [
    "data = [model_0, model_2, model_m]\n",
    "\n",
    "fig = plt.figure(figsize =(10, 7))\n",
    "plt.boxplot(data, showfliers=False, labels=[\"Modelo 0\", \"Modelo 2\", \"Modelo M\"]);\n",
    "plt.xlabel(\"Modelo\", fontsize=20)\n",
    "plt.ylabel(\"Potência (mW)\", fontsize=20);"
   ]
  },
  {
   "cell_type": "code",
   "execution_count": 9,
   "id": "68ee7e5b",
   "metadata": {},
   "outputs": [],
   "source": [
    "fig.savefig(os.path.join('figs/', 'potencia_por_modelo_16000000pps.pdf'), dpi=300, bbox_inches = \"tight\")"
   ]
  },
  {
   "cell_type": "code",
   "execution_count": 10,
   "id": "a681eb47",
   "metadata": {},
   "outputs": [
    {
     "name": "stdout",
     "output_type": "stream",
     "text": [
      "Potência [mW]\n",
      " Modelo 1: 332.00 ± 224.07\n",
      " Modelo 2: 394.07 ± 234.39\n",
      " Modelo M: 394.09 ± 252.92\n"
     ]
    }
   ],
   "source": [
    "print(\"Potência [mW]\\n Modelo 1: {:.2f} \\u00B1 {:.2f}\".format(np.mean(model_0), np.std(model_0)))\n",
    "print(\" Modelo 2: {:.2f} \\u00B1 {:.2f}\".format(np.mean(model_2), np.std(model_2)))\n",
    "print(\" Modelo M: {:.2f} \\u00B1 {:.2f}\".format(np.mean(model_m), np.std(model_m)))"
   ]
  },
  {
   "cell_type": "markdown",
   "id": "551ef16c",
   "metadata": {},
   "source": [
    "# Pior caso - IPerf 16000000pps e Nmap Insane"
   ]
  },
  {
   "cell_type": "code",
   "execution_count": 11,
   "id": "e98da184",
   "metadata": {},
   "outputs": [],
   "source": [
    "model_0 = []\n",
    "model_2 = []\n",
    "model_m = []\n",
    "\n",
    "for f in files:\n",
    "    df = pd.read_csv(f, header=0, names=column_names)\n",
    "    \n",
    "    if \"16000000pps\" in f:\n",
    "        if \"insane\" in f:\n",
    "            if \"\\\\0_\" in f:\n",
    "                model_0.append(df[\"pwr_mW\"].loc[df.discrete == 1].values.T)\n",
    "            elif \"\\\\2_\" in f:\n",
    "                model_2.append(df[\"pwr_mW\"].loc[df.discrete == 1].values.T)\n",
    "            elif \"\\\\m_\" in f:\n",
    "                model_m.append(df[\"pwr_mW\"].loc[df.discrete == 1].values.T)"
   ]
  },
  {
   "cell_type": "code",
   "execution_count": 12,
   "id": "2449b5bc",
   "metadata": {},
   "outputs": [],
   "source": [
    "model_0 = np.concatenate(model_0, axis=0)\n",
    "model_2 = np.concatenate(model_2, axis=0)\n",
    "model_m = np.concatenate(model_m, axis=0)"
   ]
  },
  {
   "cell_type": "code",
   "execution_count": 13,
   "id": "70c2f91c",
   "metadata": {},
   "outputs": [
    {
     "data": {
      "image/png": "[encoded data removed]",
      "text/plain": [
       "<Figure size 720x504 with 1 Axes>"
      ]
     },
     "metadata": {
      "needs_background": "light"
     },
     "output_type": "display_data"
    }
   ],
   "source": [
    "data = [model_0, model_2, model_m]\n",
    "\n",
    "fig = plt.figure(figsize =(10, 7))\n",
    "plt.boxplot(data, showfliers=False, labels=[\"Modelo 0\", \"Modelo 2\", \"Modelo M\"]);\n",
    "plt.xlabel(\"Modelo\", fontsize=20)\n",
    "plt.ylabel(\"Potência (mW)\", fontsize=20);"
   ]
  },
  {
   "cell_type": "code",
   "execution_count": 14,
   "id": "cf4771c6",
   "metadata": {},
   "outputs": [
    {
     "data": {
      "image/png": "[encoded data removed]",
      "text/plain": [
       "<Figure size 720x504 with 1 Axes>"
      ]
     },
     "metadata": {
      "needs_background": "light"
     },
     "output_type": "display_data"
    }
   ],
   "source": [
    "data = [model_0, model_2, model_m]\n",
    "\n",
    "fig = plt.figure(figsize =(10, 7))\n",
    "plt.boxplot(data, showfliers=False, labels=[\"Modelo 0\", \"Modelo 2\", \"Modelo M\"]);\n",
    "plt.xlabel(\"Modelo\", fontsize=20)\n",
    "plt.ylabel(\"Potência (mW)\", fontsize=20);"
   ]
  },
  {
   "cell_type": "code",
   "execution_count": 15,
   "id": "e969b3f3",
   "metadata": {},
   "outputs": [],
   "source": [
    "fig.savefig(os.path.join('figs/', 'potencia_por_modelo_16000000pps_e_insane.pdf'), dpi=300, bbox_inches = \"tight\")"
   ]
  },
  {
   "cell_type": "code",
   "execution_count": 16,
   "id": "bf830870",
   "metadata": {},
   "outputs": [
    {
     "name": "stdout",
     "output_type": "stream",
     "text": [
      "Potência [mW]\n",
      " Modelo 1: 278.76 ± 206.84\n",
      " Modelo 2: 391.34 ± 236.00\n",
      " Modelo M: 448.68 ± 231.64\n"
     ]
    }
   ],
   "source": [
    "print(\"Potência [mW]\\n Modelo 1: {:.2f} \\u00B1 {:.2f}\".format(np.mean(model_0), np.std(model_0)))\n",
    "print(\" Modelo 2: {:.2f} \\u00B1 {:.2f}\".format(np.mean(model_2), np.std(model_2)))\n",
    "print(\" Modelo M: {:.2f} \\u00B1 {:.2f}\".format(np.mean(model_m), np.std(model_m)))"
   ]
  },
  {
   "cell_type": "markdown",
   "id": "c3e66bc4",
   "metadata": {},
   "source": [
    "---\n",
    "# Distribuição dos dados"
   ]
  },
  {
   "cell_type": "code",
   "execution_count": 20,
   "id": "d8014fab",
   "metadata": {},
   "outputs": [
    {
     "data": {
      "text/plain": [
       "<AxesSubplot:>"
      ]
     },
     "execution_count": 20,
     "metadata": {},
     "output_type": "execute_result"
    },
    {
     "data": {
      "image/png": "[encoded data removed]",
      "text/plain": [
       "<Figure size 432x288 with 1 Axes>"
      ]
     },
     "metadata": {
      "needs_background": "light"
     },
     "output_type": "display_data"
    }
   ],
   "source": [
    "df[\"pwr_mW\"].hist()"
   ]
  },
  {
   "cell_type": "code",
   "execution_count": 21,
   "id": "dac5f6ad",
   "metadata": {},
   "outputs": [
    {
     "data": {
      "text/plain": [
       "<AxesSubplot:>"
      ]
     },
     "execution_count": 21,
     "metadata": {},
     "output_type": "execute_result"
    },
    {
     "data": {
      "image/png": "[encoded data removed]",
      "text/plain": [
       "<Figure size 432x288 with 1 Axes>"
      ]
     },
     "metadata": {
      "needs_background": "light"
     },
     "output_type": "display_data"
    }
   ],
   "source": [
    "df[\"pwr_mW\"].plot()"
   ]
  },
  {
   "cell_type": "code",
   "execution_count": null,
   "id": "3aab0b29",
   "metadata": {},
   "outputs": [],
   "source": []
  }
 ],
 "metadata": {
  "kernelspec": {
   "display_name": "Python 3 (ipykernel)",
   "language": "python",
   "name": "python3"
  },
  "language_info": {
   "codemirror_mode": {
    "name": "ipython",
    "version": 3
   },
   "file_extension": ".py",
   "mimetype": "text/x-python",
   "name": "python",
   "nbconvert_exporter": "python",
   "pygments_lexer": "ipython3",
   "version": "3.9.7"
  }
 },
 "nbformat": 4,
 "nbformat_minor": 5
}
